{
  "metadata": {
    "kernelspec": {
      "name": "python",
      "display_name": "Python (Pyodide)",
      "language": "python"
    },
    "language_info": {
      "codemirror_mode": {
        "name": "python",
        "version": 3
      },
      "file_extension": ".py",
      "mimetype": "text/x-python",
      "name": "python",
      "nbconvert_exporter": "python",
      "pygments_lexer": "ipython3",
      "version": "3.8"
    }
  },
  "nbformat_minor": 5,
  "nbformat": 4,
  "cells": [
    {
      "id": "0a5bc3e5-ac6b-4c47-9596-b3e2bf1ca990",
      "cell_type": "markdown",
      "source": "## Função de Encriptação",
      "metadata": {}
    },
    {
      "id": "c7a52814-249e-4d67-b2d1-6d5c425c79d5",
      "cell_type": "code",
      "source": "# Dicionário\ncaracteres = {\n    0: 'a', 1: 'b', 2: 'c', 3: 'd', 4: 'e',\n    5: 'f', 6: 'g', 7: 'h', 8: 'i', 9: 'j',\n    10: 'k', 11: 'l', 12: 'm', 13: 'n', 14: 'o',\n    15: 'p', 16: 'q', 17: 'r', 18: 's', 19: 't',\n    20: 'u', 21: 'v', 22: 'w', 23: 'x', 24: 'y',\n    25: 'z'\n}\n\n# Dicionário invertido\ncaracteres_invertido = {v: k for k, v in caracteres.items()}\n\ndef encriptacao(plain_text, key):\n    plain_text = plain_text.lower()\n    cipher_text = ''\n\n    for letra in plain_text:\n        if letra in caracteres_invertido:\n            pos_letra = caracteres_invertido[letra]\n            nova_pos = (pos_letra + key) % 26\n            nova_letra = caracteres[nova_pos]\n            cipher_text += nova_letra\n        else:\n            cipher_text += letra\n\n    return cipher_text\n\n# Teste\nprint(encriptacao(\"Lucca\", 3))  # Saída esperada: \"oxffd\"",
      "metadata": {
        "trusted": true
      },
      "outputs": [
        {
          "name": "stdout",
          "output_type": "stream",
          "text": "oxffd\n"
        }
      ],
      "execution_count": 5
    },
    {
      "id": "4fca1aac-1769-4425-b9fc-833b451535b4",
      "cell_type": "markdown",
      "source": "## Função de Decriptação",
      "metadata": {}
    },
    {
      "id": "895f4815-ab8d-4ae8-8651-91b08bb51590",
      "cell_type": "code",
      "source": "def decriptacao(cipher_text, key):\n    cipher_text = cipher_text.lower()\n    plain_text = ''\n\n    for letra in cipher_text:\n        if letra in caracteres_invertido:\n            pos_letra = caracteres_invertido[letra]\n            nova_pos = (pos_letra - key) % 26\n            nova_letra = caracteres[nova_pos]\n            plain_text += nova_letra\n        else:\n            plain_text += letra\n\n    return plain_text\n\n# Teste\nprint(decriptacao(\"oxffd\", 3))  # Saída esperada: \"lucca\"",
      "metadata": {
        "trusted": true
      },
      "outputs": [
        {
          "name": "stdout",
          "output_type": "stream",
          "text": "lucca\n"
        }
      ],
      "execution_count": 6
    },
    {
      "id": "ccbe60e6-b7c9-4554-8b68-204be58da264",
      "cell_type": "markdown",
      "source": "## Quebra por Força Bruta",
      "metadata": {}
    },
    {
      "id": "a8a8262e-bdc1-42c9-a99d-4cce8d362687",
      "cell_type": "code",
      "source": "texto = \"seguranca\"\ntexto_enc = encriptacao(texto, 23)\ntexto_dec = decriptacao(texto_enc, 23)\n\ndef forca_bruta(cipher_text):\n    plain_text_for_analysis = list()\n    for i in range(27):\n        plain_text = decriptacao(cipher_text, i)\n        plain_text_for_analysis.append((i, plain_text))\n\n        if plain_text == texto_dec:\n            posicao = i\n        \n    print(\"Abaixo temos possíveis correspondências para o texto cifrado analisado.\")\n    \n    for text in plain_text_for_analysis:\n        print(f\"{text}\")\n\n    print(f\"Após uma análise dos textos, percebemos que a i={posicao} é a chave mais provável!\")\n\nforca_bruta(texto_enc)",
      "metadata": {
        "trusted": true
      },
      "outputs": [
        {
          "name": "stdout",
          "output_type": "stream",
          "text": "Abaixo temos possíveis correspondências para o texto cifrado analisado.\n(0, 'pbdroxkzx')\n(1, 'oacqnwjyw')\n(2, 'nzbpmvixv')\n(3, 'myaoluhwu')\n(4, 'lxznktgvt')\n(5, 'kwymjsfus')\n(6, 'jvxliretr')\n(7, 'iuwkhqdsq')\n(8, 'htvjgpcrp')\n(9, 'gsuifobqo')\n(10, 'frthenapn')\n(11, 'eqsgdmzom')\n(12, 'dprfclynl')\n(13, 'coqebkxmk')\n(14, 'bnpdajwlj')\n(15, 'amoczivki')\n(16, 'zlnbyhujh')\n(17, 'ykmaxgtig')\n(18, 'xjlzwfshf')\n(19, 'wikyverge')\n(20, 'vhjxudqfd')\n(21, 'ugiwtcpec')\n(22, 'tfhvsbodb')\n(23, 'seguranca')\n(24, 'rdftqzmbz')\n(25, 'qcespylay')\n(26, 'pbdroxkzx')\nApós uma análise dos textos, percebemos que a i=23 é a chave mais provável!\n"
        }
      ],
      "execution_count": 17
    },
    {
      "id": "1e2d31bc-1507-41a2-a97d-e6480100848c",
      "cell_type": "markdown",
      "source": "## Quebra por Distribuição de Frequência",
      "metadata": {}
    },
    {
      "id": "0bfbcf1b-7d18-498d-b2ce-aeecec5a77f6",
      "cell_type": "code",
      "source": "texto2 = \"listadesegurancacomputacionalparasemanaquevem\"\ntexto_enc2 = encriptacao(texto2, 7)\n\n# Dicionário com as frequências de cada letra em Português\nfrequencia_pt = {\n    'a': 13.9, 'b': 1.0, 'c': 4.4, 'd': 5.4, 'e': 12.2,\n    'f': 1.0, 'g': 1.2, 'h': 0.8, 'i': 6.9, 'j': 0.4,\n    'k': 0.1, 'l': 2.8, 'm': 4.2, 'n': 5.3, 'o': 10.8,\n    'p': 2.9, 'q': 0.9, 'r': 6.9, 's': 7.9, 't': 4.9,\n    'u': 4.0, 'v': 1.3, 'w': 0.0, 'x': 0.3, 'y': 0.0, 'z': 0.4\n}\nfrequencia_pt_ord = dict(sorted(frequencia_pt.items(), key=lambda item: (-item[1], item[0])))\n\ndic_frequencias = {}\n\ndef dist_frequencia(cipher_text):\n    dic_frequencias.clear()  # Limpa se já foi usada antes (para usarmos em outros ataques)\n\n    for letra in cipher_text:\n        if letra not in dic_frequencias:\n            dic_frequencias[letra] = 1\n        else:\n            dic_frequencias[letra] += 1\n\n    dic_frequencias_ord = dict(\n        sorted(dic_frequencias.items(), key=lambda item: (-item[1], item[0]))\n    )\n    print(\"Frequência no texto cifrado:\", dic_frequencias_ord)\n\n    letra_mais_freq_cifrada = next(iter(dic_frequencias_ord))\n    pos_cifrada = caracteres_invertido[letra_mais_freq_cifrada]\n\n    resultados = []\n\n    for letra_pt in frequencia_pt_ord:\n        pos_pt = caracteres_invertido[letra_pt]\n        deslocamento = (pos_cifrada - pos_pt) % 26\n        texto_decifrado = decriptacao(cipher_text, deslocamento)\n        resultados.append((deslocamento, texto_decifrado))  # Retorna tupla (chave, texto)\n\n    return resultados\n    \npossiveis = dist_frequencia(texto_enc2)\npossiveis = sorted(dist_frequencia(texto_enc2), key=lambda x: x[0])  # ordena pela chave\nprint(\"\\nPossíveis decifrações:\\n\")\nfor chave, tentativa in possiveis:\n    print(f\"KEY: {chave:2} | {tentativa}\")",
      "metadata": {
        "trusted": true
      },
      "outputs": [
        {
          "name": "stdout",
          "output_type": "stream",
          "text": "Frequência no texto cifrado: {'h': 9, 'l': 5, 'b': 3, 'j': 3, 't': 3, 'u': 3, 'z': 3, 'a': 2, 'p': 2, 's': 2, 'v': 2, 'w': 2, 'y': 2, 'c': 1, 'k': 1, 'n': 1, 'x': 1}\nFrequência no texto cifrado: {'h': 9, 'l': 5, 'b': 3, 'j': 3, 't': 3, 'u': 3, 'z': 3, 'a': 2, 'p': 2, 's': 2, 'v': 2, 'w': 2, 'y': 2, 'c': 1, 'k': 1, 'n': 1, 'x': 1}\n\nPossíveis decifrações:\n\nKEY:  0 | spzahklzlnbyhujhjvtwbahjpvuhswhyhzlthuhxblclt\nKEY:  1 | royzgjkykmaxgtigiusvazgioutgrvgxgyksgtgwakbks\nKEY:  2 | qnxyfijxjlzwfshfhtruzyfhntsfqufwfxjrfsfvzjajr\nKEY:  3 | pmwxehiwikyvergegsqtyxegmsreptevewiqereuyiziq\nKEY:  4 | olvwdghvhjxudqfdfrpsxwdflrqdosdudvhpdqdtxhyhp\nKEY:  5 | nkuvcfgugiwtcpeceqorwvcekqpcnrctcugocpcswgxgo\nKEY:  6 | mjtubeftfhvsbodbdpnqvubdjpobmqbsbtfnbobrvfwfn\nKEY:  7 | listadesegurancacomputacionalparasemanaquevem\nKEY:  8 | khrszcdrdftqzmbzbnlotszbhnmzkozqzrdlzmzptdudl\nKEY:  9 | jgqrybcqcespylayamknsryagmlyjnypyqckylyosctck\nKEY: 10 | ifpqxabpbdroxkzxzljmrqxzflkximxoxpbjxkxnrbsbj\nKEY: 11 | heopwzaoacqnwjywykilqpwyekjwhlwnwoaiwjwmqarai\nKEY: 12 | gdnovyznzbpmvixvxjhkpovxdjivgkvmvnzhvivlpzqzh\nKEY: 13 | fcmnuxymyaoluhwuwigjonuwcihufjulumyguhukoypyg\nKEY: 14 | eblmtwxlxznktgvtvhfinmtvbhgteitktlxftgtjnxoxf\nKEY: 15 | daklsvwkwymjsfusugehmlsuagfsdhsjskwesfsimwnwe\nKEY: 16 | czjkruvjvxliretrtfdglkrtzfercgrirjvdrerhlvmvd\nKEY: 17 | byijqtuiuwkhqdsqsecfkjqsyedqbfqhqiucqdqgkuluc\nKEY: 18 | axhipsthtvjgpcrprdbejiprxdcpaepgphtbpcpfjtktb\nKEY: 19 | zwghorsgsuifobqoqcadihoqwcbozdofogsaoboeisjsa\nKEY: 20 | yvfgnqrfrthenapnpbzchgnpvbanycnenfrznandhrirz\nKEY: 21 | xuefmpqeqsgdmzomoaybgfmouazmxbmdmeqymzmcgqhqy\nKEY: 22 | wtdelopdprfclynlnzxafelntzylwalcldpxlylbfpgpx\nKEY: 23 | vscdknocoqebkxmkmywzedkmsyxkvzkbkcowkxkaeofow\nKEY: 24 | urbcjmnbnpdajwljlxvydcjlrxwjuyjajbnvjwjzdnenv\nKEY: 25 | tqabilmamoczivkikwuxcbikqwvitxiziamuiviycmdmu\n"
        }
      ],
      "execution_count": 50
    },
    {
      "id": "d1568cfc-0932-4b68-8b16-2fbbb6f236dc",
      "cell_type": "code",
      "source": "",
      "metadata": {
        "trusted": true
      },
      "outputs": [],
      "execution_count": null
    }
  ]
}